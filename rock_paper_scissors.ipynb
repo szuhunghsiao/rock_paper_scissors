{
 "cells": [
  {
   "cell_type": "code",
   "execution_count": null,
   "metadata": {},
   "outputs": [],
   "source": [
    "import random\n",
    "all_option = ['rock', 'fire', 'scissors', 'snake', 'human',\n",
    "              'tree', 'wolf', 'sponge', 'paper', 'air',\n",
    "              'water', 'dragon', 'devil', 'lightning', 'gun']\n",
    "winning_all = {}\n",
    "for i in range(15):\n",
    "    winning_all[all_option[i]] = [all_option[(j+1)%15] for j in range(i, i+7)]\n",
    "winning = {}\n",
    "names, scores = [], []\n",
    "score_file = open('rating.txt', 'r+')\n",
    "for line in score_file:\n",
    "    names.append(line.split(' ')[0])\n",
    "    scores.append(line.split(' ')[1].replace('\\n',''))\n",
    "name = input('Enter your name:')\n",
    "score = int(scores[names.index(name)]) if name in names else 0\n",
    "print(f'Hello, {name}')\n",
    "option = input().split(',')\n",
    "if option == ['']:\n",
    "    option = ['rock', 'paper', 'scissors']\n",
    "for choose in option:\n",
    "    winning[choose] = [i for i in option if i in winning_all[choose]]\n",
    "print(\"Okay, let's start\")\n",
    "while True:\n",
    "    user = input()\n",
    "    if user == \"!exit\": \n",
    "        print(\"Bye!\")\n",
    "        break\n",
    "    if user == \"!rating\":\n",
    "        print(f\"Your rating: {score}\")\n",
    "        continue\n",
    "    if user not in list(winning.keys()): print(\"Invalid input\")\n",
    "    comp = random.choice(list(winning.keys()))\n",
    "    if user == comp:\n",
    "        print(f\"There is a draw ({user})\")\n",
    "        score += 50\n",
    "    elif user in winning[comp]:\n",
    "        print(f\"Sorry, but the computer chose {comp}\")\n",
    "    else:\n",
    "        print(f\"Well done. The computer chose {comp} and failed\")\n",
    "        score += 100\n",
    "score_file.writelines(name + ' ' + str(score))\n",
    "score_file.close()"
   ]
  }
 ],
 "metadata": {
  "kernelspec": {
   "display_name": "Python 3",
   "language": "python",
   "name": "python3"
  },
  "language_info": {
   "codemirror_mode": {
    "name": "ipython",
    "version": 3
   },
   "file_extension": ".py",
   "mimetype": "text/x-python",
   "name": "python",
   "nbconvert_exporter": "python",
   "pygments_lexer": "ipython3",
   "version": "3.8.5"
  }
 },
 "nbformat": 4,
 "nbformat_minor": 4
}
