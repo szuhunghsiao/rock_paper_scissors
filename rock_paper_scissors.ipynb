{
 "cells": [
  {
   "cell_type": "code",
   "execution_count": 14,
   "metadata": {},
   "outputs": [
    {
     "name": "stdin",
     "output_type": "stream",
     "text": [
      "Enter your name: Alex\n"
     ]
    },
    {
     "name": "stdout",
     "output_type": "stream",
     "text": [
      "Hello, Alex\n"
     ]
    },
    {
     "name": "stdin",
     "output_type": "stream",
     "text": [
      " rock,fire,scissors,snakes\n"
     ]
    },
    {
     "name": "stdout",
     "output_type": "stream",
     "text": [
      "Please enter the valid options for the game.\n"
     ]
    },
    {
     "name": "stdin",
     "output_type": "stream",
     "text": [
      " rock,fire,scissors,snake\n"
     ]
    },
    {
     "name": "stdout",
     "output_type": "stream",
     "text": [
      "Okay, let's start\n"
     ]
    },
    {
     "name": "stdin",
     "output_type": "stream",
     "text": [
      " paper\n"
     ]
    },
    {
     "name": "stdout",
     "output_type": "stream",
     "text": [
      "Invalid input\n"
     ]
    },
    {
     "name": "stdin",
     "output_type": "stream",
     "text": [
      " rock\n"
     ]
    },
    {
     "name": "stdout",
     "output_type": "stream",
     "text": [
      "Well done. The computer chose scissors and failed\n"
     ]
    },
    {
     "name": "stdin",
     "output_type": "stream",
     "text": [
      " rock\n"
     ]
    },
    {
     "name": "stdout",
     "output_type": "stream",
     "text": [
      "Well done. The computer chose fire and failed\n"
     ]
    },
    {
     "name": "stdin",
     "output_type": "stream",
     "text": [
      " rock\n"
     ]
    },
    {
     "name": "stdout",
     "output_type": "stream",
     "text": [
      "Well done. The computer chose snake and failed\n"
     ]
    },
    {
     "name": "stdin",
     "output_type": "stream",
     "text": [
      " rock\n"
     ]
    },
    {
     "name": "stdout",
     "output_type": "stream",
     "text": [
      "There is a draw (rock)\n"
     ]
    },
    {
     "name": "stdin",
     "output_type": "stream",
     "text": [
      " rock\n"
     ]
    },
    {
     "name": "stdout",
     "output_type": "stream",
     "text": [
      "Well done. The computer chose scissors and failed\n"
     ]
    },
    {
     "name": "stdin",
     "output_type": "stream",
     "text": [
      " rock\n"
     ]
    },
    {
     "name": "stdout",
     "output_type": "stream",
     "text": [
      "Well done. The computer chose snake and failed\n"
     ]
    },
    {
     "name": "stdin",
     "output_type": "stream",
     "text": [
      " rock\n"
     ]
    },
    {
     "name": "stdout",
     "output_type": "stream",
     "text": [
      "Well done. The computer chose scissors and failed\n"
     ]
    },
    {
     "name": "stdin",
     "output_type": "stream",
     "text": [
      " rock\n"
     ]
    },
    {
     "name": "stdout",
     "output_type": "stream",
     "text": [
      "Well done. The computer chose fire and failed\n"
     ]
    },
    {
     "name": "stdin",
     "output_type": "stream",
     "text": [
      " !rating\n"
     ]
    },
    {
     "name": "stdout",
     "output_type": "stream",
     "text": [
      "Your rating: 850\n"
     ]
    },
    {
     "name": "stdin",
     "output_type": "stream",
     "text": [
      " !exit\n"
     ]
    },
    {
     "name": "stdout",
     "output_type": "stream",
     "text": [
      "Bye!\n"
     ]
    }
   ],
   "source": [
    "import random\n",
    "all_option = ['rock', 'fire', 'scissors', 'snake', 'human',\n",
    "              'tree', 'wolf', 'sponge', 'paper', 'air',\n",
    "              'water', 'dragon', 'devil', 'lightning', 'gun']\n",
    "winning_all = {}  # all winning condition\n",
    "winning = {}  # specific winning condition\n",
    "names, scores = [], []\n",
    "\n",
    "# generate all winning condition\n",
    "for i in range(15):\n",
    "    winning_all[all_option[i]] = [all_option[(j+1)%15] for j in range(i, i+7)]\n",
    "\n",
    "# read files and store existing players' score in name and scores\n",
    "with open('rating.txt', 'r') as score_file:\n",
    "    for line in score_file:\n",
    "        names.append(line.split(' ')[0])\n",
    "        scores.append(line.split(' ')[1].replace('\\n',''))\n",
    "name = input('Enter your name:')\n",
    "score = int(scores[names.index(name)]) if name in names else 0\n",
    "print(f'Hello, {name}')\n",
    "# user pick all toption for current game\n",
    "while True:\n",
    "    option = input().split(',')\n",
    "    if set(option).issubset(set(all_option)):\n",
    "        break\n",
    "    elif option == ['']:\n",
    "        option = ['rock', 'paper', 'scissors']\n",
    "        break\n",
    "    else:\n",
    "        print(\"Please enter the valid options for the game.\")\n",
    "#if option == ['']:\n",
    "#    option = ['rock', 'paper', 'scissors']\n",
    "# generate the current game winning condition\n",
    "for choose in option:\n",
    "    winning[choose] = [i for i in option if i in winning_all[choose]]\n",
    "print(\"Okay, let's start\")\n",
    "while True:\n",
    "    user = input()\n",
    "    if user == \"!exit\": \n",
    "        print(\"Bye!\")\n",
    "        break\n",
    "    elif user == \"!rating\":\n",
    "        print(f\"Your rating: {score}\")\n",
    "        continue\n",
    "    elif user in list(winning.keys()): \n",
    "        comp = random.choice(list(winning.keys()))\n",
    "        if user == comp:\n",
    "            print(f\"There is a draw ({user})\")\n",
    "            score += 50\n",
    "        elif user in winning[comp]:\n",
    "            print(f\"Sorry, but the computer chose {comp}\")\n",
    "        else:\n",
    "            print(f\"Well done. The computer chose {comp} and failed\")\n",
    "            score += 100\n",
    "    elif user == '!option':\n",
    "        print(option)\n",
    "        continue\n",
    "    else:\n",
    "        print(\"Invalid input\")\n",
    "    \n",
    "        \n",
    "with open('rating.txt', 'w') as score_file:\n",
    "    if name in names:\n",
    "        scores[names.index(name)] = str(score)\n",
    "    else:\n",
    "        names.append(name)\n",
    "        scores.append(score)\n",
    "    for i in range(len(names)):\n",
    "        score_file.write(names[i] + ' ' + str(scores[i]) + '\\n')"
   ]
  },
  {
   "cell_type": "code",
   "execution_count": null,
   "metadata": {},
   "outputs": [],
   "source": []
  }
 ],
 "metadata": {
  "kernelspec": {
   "display_name": "Python 3",
   "language": "python",
   "name": "python3"
  },
  "language_info": {
   "codemirror_mode": {
    "name": "ipython",
    "version": 3
   },
   "file_extension": ".py",
   "mimetype": "text/x-python",
   "name": "python",
   "nbconvert_exporter": "python",
   "pygments_lexer": "ipython3",
   "version": "3.8.5"
  }
 },
 "nbformat": 4,
 "nbformat_minor": 4
}
